{
 "cells": [
  {
   "cell_type": "code",
   "execution_count": 1,
   "id": "19306345",
   "metadata": {},
   "outputs": [],
   "source": [
    "import os, shutil"
   ]
  },
  {
   "cell_type": "code",
   "execution_count": 11,
   "id": "62baebf4",
   "metadata": {},
   "outputs": [],
   "source": [
    "path = r'/Users/boluwatifefadele/New Projects//'"
   ]
  },
  {
   "cell_type": "code",
   "execution_count": 12,
   "id": "9029ffdc",
   "metadata": {},
   "outputs": [
    {
     "data": {
      "text/plain": [
       "['SLIDE 11.png',\n",
       " 'Calculator',\n",
       " 'mytextfile2',\n",
       " 'calculator project.ipynb',\n",
       " 'Automatic File Sorter Project.ipynb',\n",
       " 'Picture 1.png',\n",
       " 'LONDONTFL.png',\n",
       " '.ipynb_checkpoints',\n",
       " 'mytextfile1',\n",
       " 'main.py',\n",
       " 'Unit of Measurement Converter.ipynb',\n",
       " '.idea']"
      ]
     },
     "execution_count": 12,
     "metadata": {},
     "output_type": "execute_result"
    }
   ],
   "source": [
    "os.listdir(path)"
   ]
  },
  {
   "cell_type": "code",
   "execution_count": null,
   "id": "a6ae91cc",
   "metadata": {},
   "outputs": [],
   "source": [
    "# os.makedirs(path + new_folder_name)"
   ]
  },
  {
   "cell_type": "code",
   "execution_count": 13,
   "id": "826db4a6",
   "metadata": {},
   "outputs": [],
   "source": [
    "folder_names = ['Jupyter Files', 'Text Files', 'Image Files']\n",
    "\n",
    "# '/Users/boluwatifefadele/New Projects/Image Files'\n",
    "\n",
    "for folder in folder_names:\n",
    "    if not os.path.exists(path + folder):\n",
    "        os.makedirs(path + folder)"
   ]
  },
  {
   "cell_type": "code",
   "execution_count": 20,
   "id": "0c4b0a72",
   "metadata": {},
   "outputs": [],
   "source": [
    "file_names = os.listdir(path)"
   ]
  },
  {
   "cell_type": "code",
   "execution_count": 21,
   "id": "2a15c9f4",
   "metadata": {},
   "outputs": [],
   "source": [
    "for file in file_names:\n",
    "    if \".ipynb\" in file and not os.path.exists(path + \"Jupyter Files//\" + file):\n",
    "        shutil.move(path + file, path + \"Jupyter Files//\" + file)\n",
    "    elif \".png\" in file and not os.path.exists(path + \"Image Files//\" + file):\n",
    "        shutil.move(path + file, path + \"Image Files//\" + file)\n",
    "    elif \".txt\" in file and not os.path.exists(path + \"Text Files//\" + file):\n",
    "        shutil.move(path + file, path + \"Text Files//\" + file)\n",
    "        "
   ]
  },
  {
   "cell_type": "code",
   "execution_count": null,
   "id": "3f55d550",
   "metadata": {},
   "outputs": [],
   "source": [
    "# final code\n",
    "\n",
    "path = r'/Users/boluwatifefadele/New Projects//'\n",
    "\n",
    "folder_names = ['Jupyter Files', 'Text Files', 'Image Files']\n",
    "\n",
    "for folder in folder_names:\n",
    "    if not os.path.exists(path + folder):\n",
    "        os.makedirs(path + folder)\n",
    "        \n",
    "file_names = os.listdir(path)\n",
    "\n",
    "for file in file_names:\n",
    "    if \".ipynb\" in file and not os.path.exists(path + \"Jupyter Files//\" + file):\n",
    "        shutil.move(path + file, path + \"Jupyter Files//\" + file)\n",
    "    elif \".png\" in file and not os.path.exists(path + \"Image Files//\" + file):\n",
    "        shutil.move(path + file, path + \"Image Files//\" + file)\n",
    "    elif \".txt\" in file and not os.path.exists(path + \"Text Files//\" + file):\n",
    "        shutil.move(path + file, path + \"Text Files//\" + file)"
   ]
  }
 ],
 "metadata": {
  "kernelspec": {
   "display_name": "Python 3 (ipykernel)",
   "language": "python",
   "name": "python3"
  },
  "language_info": {
   "codemirror_mode": {
    "name": "ipython",
    "version": 3
   },
   "file_extension": ".py",
   "mimetype": "text/x-python",
   "name": "python",
   "nbconvert_exporter": "python",
   "pygments_lexer": "ipython3",
   "version": "3.9.13"
  }
 },
 "nbformat": 4,
 "nbformat_minor": 5
}
